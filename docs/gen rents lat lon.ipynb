{
 "cells": [
  {
   "cell_type": "code",
   "execution_count": 48,
   "id": "3fdd540d-ee90-4c61-94f7-f3a53bb7d707",
   "metadata": {},
   "outputs": [
    {
     "name": "stdout",
     "output_type": "stream",
     "text": [
      "Requirement already satisfied: pandas in c:\\users\\sschleeper\\appdata\\local\\anaconda3\\lib\\site-packages (2.2.2)\n",
      "Requirement already satisfied: geopy in c:\\users\\sschleeper\\appdata\\local\\anaconda3\\lib\\site-packages (2.4.1)\n",
      "Requirement already satisfied: openpyxl in c:\\users\\sschleeper\\appdata\\local\\anaconda3\\lib\\site-packages (3.1.2)\n",
      "Requirement already satisfied: numpy>=1.26.0 in c:\\users\\sschleeper\\appdata\\local\\anaconda3\\lib\\site-packages (from pandas) (1.26.4)\n",
      "Requirement already satisfied: python-dateutil>=2.8.2 in c:\\users\\sschleeper\\appdata\\local\\anaconda3\\lib\\site-packages (from pandas) (2.9.0.post0)\n",
      "Requirement already satisfied: pytz>=2020.1 in c:\\users\\sschleeper\\appdata\\local\\anaconda3\\lib\\site-packages (from pandas) (2024.1)\n",
      "Requirement already satisfied: tzdata>=2022.7 in c:\\users\\sschleeper\\appdata\\local\\anaconda3\\lib\\site-packages (from pandas) (2023.3)\n",
      "Requirement already satisfied: geographiclib<3,>=1.52 in c:\\users\\sschleeper\\appdata\\local\\anaconda3\\lib\\site-packages (from geopy) (2.0)\n",
      "Requirement already satisfied: et-xmlfile in c:\\users\\sschleeper\\appdata\\local\\anaconda3\\lib\\site-packages (from openpyxl) (1.1.0)\n",
      "Requirement already satisfied: six>=1.5 in c:\\users\\sschleeper\\appdata\\local\\anaconda3\\lib\\site-packages (from python-dateutil>=2.8.2->pandas) (1.16.0)\n",
      "Requirement already satisfied: xlrd in c:\\users\\sschleeper\\appdata\\local\\anaconda3\\lib\\site-packages (2.0.1)\n"
     ]
    }
   ],
   "source": [
    "!pip install pandas geopy openpyxl\n",
    "!pip install xlrd\n",
    "\n"
   ]
  },
  {
   "cell_type": "code",
   "execution_count": 50,
   "id": "4299eb88-8c2b-441a-97ba-901be9b39240",
   "metadata": {
    "scrolled": true
   },
   "outputs": [
    {
     "name": "stdout",
     "output_type": "stream",
     "text": [
      "Gen Rent Columns: Index(['Branch Name', 'Branch Code', 'Address', 'City', 'State', 'Zip Code',\n",
      "       'Phone', 'After Hours Phone', 'Latitude', 'Longitude'],\n",
      "      dtype='object')\n",
      "Area Codes Columns: Index(['Area Code', 'City', 'State', 'Country', 'Latitude', 'Longitude'], dtype='object')\n",
      "   Area Code            City       State Country  Latitude  Longitude\n",
      "0        201         Bayonne  New Jersey      US  40.66871  -74.11431\n",
      "1        201     Bergenfield  New Jersey      US  40.92760  -73.99736\n",
      "2        201  Cliffside Park  New Jersey      US  40.82149  -73.98764\n",
      "3        201       Englewood  New Jersey      US  40.89288  -73.97264\n",
      "4        201       Fair Lawn  New Jersey      US  40.94038  -74.13181\n"
     ]
    }
   ],
   "source": [
    "import pandas as pd\n",
    "from geopy.distance import geodesic\n",
    "\n",
    "# Load the Gen Rent locations file with lat and lon\n",
    "gen_rent_df = pd.read_excel(\"gen rents with lat long.xlsx\")\n",
    "\n",
    "# Check Gen Rent columns\n",
    "print(\"Gen Rent Columns:\", gen_rent_df.columns)\n",
    "\n",
    "# Load the area codes file without headers and assign correct column names\n",
    "area_codes_df = pd.read_csv(\"us-area-code-cities.xls\", header=None)\n",
    "area_codes_df.columns = ['Area Code', 'City', 'State', 'Country', 'Latitude', 'Longitude']\n",
    "\n",
    "# Verify column names\n",
    "print(\"Area Codes Columns:\", area_codes_df.columns)\n",
    "print(area_codes_df.head())\n",
    "\n"
   ]
  },
  {
   "cell_type": "code",
   "execution_count": 54,
   "id": "cb0f7b64-3b60-4cc3-91a4-9619df50b40f",
   "metadata": {},
   "outputs": [],
   "source": [
    "# Rename columns if necessary for consistency\n",
    "# For example, if 'Area Code' is actually named 'area_code' or 'Code' in your dataset:\n",
    "# area_codes_df.rename(columns={'Code': 'Area Code'}, inplace=True)\n",
    "\n",
    "# Add a column for formatted area codes with '+1'\n",
    "# Adjust 'Area Code' to match the exact column name from Step 2\n",
    "area_codes_df['Formatted Area Code'] = '+1' + area_codes_df['Area Code'].astype(str)\n"
   ]
  },
  {
   "cell_type": "code",
   "execution_count": 59,
   "id": "e666a396-3973-42fa-a20b-c76247df42d5",
   "metadata": {},
   "outputs": [],
   "source": [
    "# Create a list to store the nearest Gen Rent location for each area code\n",
    "nearest_branch_data = []\n",
    "\n",
    "# Loop through each area code and find the nearest Gen Rent location\n",
    "for _, area_row in area_codes_df.iterrows():\n",
    "    area_lat = area_row['Latitude']\n",
    "    area_lon = area_row['Longitude']\n",
    "    area_code = area_row['Formatted Area Code']\n",
    "\n",
    "    # Find the nearest Gen Rent branch\n",
    "    min_distance = float('inf')\n",
    "    nearest_branch = None\n",
    "\n",
    "    for _, branch_row in gen_rent_df.iterrows():\n",
    "        branch_lat = branch_row['Latitude']\n",
    "        branch_lon = branch_row['Longitude']\n",
    "        branch_name = branch_row['Branch Name']\n",
    "        \n",
    "        # Calculate the distance between the area code and the Gen Rent branch\n",
    "        distance = geodesic((area_lat, area_lon), (branch_lat, branch_lon)).miles\n",
    "        \n",
    "        # Check if this is the closest branch\n",
    "        if distance < min_distance:\n",
    "            min_distance = distance\n",
    "            nearest_branch = branch_name\n",
    "\n",
    "    # Append the result to the list\n",
    "    nearest_branch_data.append({\n",
    "        'Area Code': area_code,\n",
    "        'Nearest Branch': nearest_branch\n",
    "    })\n",
    "\n"
   ]
  },
  {
   "cell_type": "code",
   "execution_count": 58,
   "id": "0b84016b-9ea8-4f0a-9ee0-cf75785a8e76",
   "metadata": {},
   "outputs": [
    {
     "name": "stdout",
     "output_type": "stream",
     "text": [
      "CSV file 'gen_rents_lat_long_updated.csv' has been created successfully.\n"
     ]
    }
   ],
   "source": [
    "# Create a DataFrame from the results\n",
    "nearest_branch_df = pd.DataFrame(nearest_branch_data)\n",
    "\n",
    "# Save the results to a CSV file\n",
    "nearest_branch_df.to_csv('gen_rents_lat_long_updated.csv', index=False)\n",
    "\n",
    "print(\"CSV file 'gen_rents_lat_long_updated.csv' has been created successfully.\")\n",
    "\n"
   ]
  },
  {
   "cell_type": "code",
   "execution_count": 62,
   "id": "da5ee32f-ae92-41a0-a431-1b33b920d96e",
   "metadata": {},
   "outputs": [
    {
     "name": "stdout",
     "output_type": "stream",
     "text": [
      "Cleaned CSV file 'gen_rents_lat_long_cleaned.csv' has been created successfully.\n"
     ]
    }
   ],
   "source": [
    "# Remove duplicate area codes\n",
    "nearest_branch_df_cleaned = nearest_branch_df.drop_duplicates(subset='Area Code')\n",
    "\n",
    "# Save the cleaned results to a CSV file\n",
    "nearest_branch_df_cleaned.to_csv('gen_rents_lat_long_cleaned.csv', index=False)\n",
    "\n",
    "print(\"Cleaned CSV file 'gen_rents_lat_long_cleaned.csv' has been created successfully.\")\n"
   ]
  },
  {
   "cell_type": "code",
   "execution_count": null,
   "id": "6a8278ac-398c-4bb5-bb09-23edf92192f2",
   "metadata": {},
   "outputs": [],
   "source": []
  }
 ],
 "metadata": {
  "kernelspec": {
   "display_name": "Python 3 (ipykernel)",
   "language": "python",
   "name": "python3"
  },
  "language_info": {
   "codemirror_mode": {
    "name": "ipython",
    "version": 3
   },
   "file_extension": ".py",
   "mimetype": "text/x-python",
   "name": "python",
   "nbconvert_exporter": "python",
   "pygments_lexer": "ipython3",
   "version": "3.12.4"
  }
 },
 "nbformat": 4,
 "nbformat_minor": 5
}
